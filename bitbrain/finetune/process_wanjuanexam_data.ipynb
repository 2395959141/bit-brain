{
 "cells": [
  {
   "cell_type": "code",
   "execution_count": null,
   "metadata": {},
   "outputs": [],
   "source": [
    "from glob import glob\n",
    "import pandas as pd\n",
    "DATA_DIR = \"/.cache/steel_dataset/wanjuan/part-003756-a894b46e.jsonl\"\n",
    "from tqdm import tqdm\n",
    "import json\n",
    "import re\n",
    "import random"
   ]
  },
  {
   "cell_type": "code",
   "execution_count": null,
   "metadata": {},
   "outputs": [],
   "source": [
    "def format_example(item, cot=False):\n",
    "    example = item[\"q_main\"] + \"\\n\"\n",
    "    choice_map = {\"A\":\"option_a\", \"B\":\"option_b\", \"C\":\"option_c\", \"D\":\"option_d\"} \n",
    "    for choice in [\"A\",\"B\",\"C\",\"D\"]:\n",
    "        if item[choice_map[choice]] != \"\":\n",
    "            example += f'{choice}. {item[choice_map[choice]]}\\n'\n",
    "    # 非cot\n",
    "    if not cot:\n",
    "        answer = f'{item[\"std_ans\"]}。{item[\"answer_detail\"]}'\n",
    "    # cot\n",
    "    else:\n",
    "        answer = f'{item[\"answer_detail\"]}'\n",
    "        pattern = r\"故选.*\"\n",
    "        answer = re.sub(pattern, '', answer, flags=re.DOTALL)\n",
    "        answer = answer + f'答案为{item[\"std_ans\"]}'\n",
    "    return example, answer\n",
    "\n",
    "all_data = []\n",
    "no_explain_counter = 0\n",
    "cot = True\n",
    "with open(DATA_DIR, 'r') as file:\n",
    "    for idx, line in enumerate(file):\n",
    "        # 解码JSON对象\n",
    "        json_obj = json.loads(line)\n",
    "        if json_obj[\"std_ans\"]==\"\" or len(json_obj[\"answer_detail\"])<10:\n",
    "            # 200w数据这块continue\n",
    "            choice, answer = format_example(json_obj, False)\n",
    "            instruct = f\"以下是一道单选题:\\n{choice}请给出答案。\\n\"\n",
    "            a_data = {\n",
    "                    \"instruction\": instruct,\n",
    "                    \"input\": \"\",\n",
    "                    \"output\": answer\n",
    "                }\n",
    "            all_data.append(a_data)\n",
    "        else:\n",
    "            # 处理json_obj\n",
    "            choice, answer = format_example(json_obj, cot)\n",
    "            if not cot:\n",
    "                instruct = f\"以下是一道单选题:\\n{choice}请给出答案。\\n\"\n",
    "            # cot\n",
    "            else:\n",
    "                instruct = f\"以下是一道{json_obj['q_type']}:\\n{choice}请先给出解释再给出答案。\\n\"\n",
    "            a_data = {\n",
    "                    \"instruction\": instruct,\n",
    "                    \"input\": \"\",\n",
    "                    \"output\": answer\n",
    "                }\n",
    "            # print(a_data)\n",
    "            all_data.append(a_data)"
   ]
  },
  {
   "cell_type": "code",
   "execution_count": null,
   "metadata": {},
   "outputs": [],
   "source": [
    "print(len(all_data))"
   ]
  },
  {
   "cell_type": "code",
   "execution_count": null,
   "metadata": {},
   "outputs": [],
   "source": [
    "print(\"filter before:\", len(all_data))\n",
    "filted_all_data = [x for x in all_data if \"略\" not in x[\"output\"]]\n",
    "print(\"filter after:\", len(all_data))"
   ]
  },
  {
   "cell_type": "code",
   "execution_count": null,
   "metadata": {},
   "outputs": [],
   "source": [
    "import random\n",
    "few_data = random.sample(filted_all_data, 200000)\n",
    "print(len(few_data))\n",
    "print(few_data[100])"
   ]
  },
  {
   "cell_type": "code",
   "execution_count": null,
   "metadata": {},
   "outputs": [],
   "source": [
    "import json\n",
    "import os\n",
    "file_path = '/.cache/sft_data/llamafactory_input/wanjuan_exam_399w.jsonl'\n",
    "\n",
    "directory = os.path.dirname(file_path)\n",
    "\n",
    "if not os.path.exists(directory):\n",
    "    os.makedirs(directory)\n",
    "    print(f\"目录{directory} 不存在，已创建\")\n",
    "else:\n",
    "    print(f\"目录{directory} 已存在\")\n",
    "\n",
    "with open(file_path, 'w', encoding=\"utf-8\") as f:\n",
    "    for item in filted_all_data:\n",
    "        json.dump(item, f, ensure_ascii=False)\n",
    "        f.write('\\n')"
   ]
  }
 ],
 "metadata": {
  "kernelspec": {
   "display_name": "transformers",
   "language": "python",
   "name": "python3"
  },
  "language_info": {
   "name": "python",
   "version": "3.12.9"
  }
 },
 "nbformat": 4,
 "nbformat_minor": 2
}
