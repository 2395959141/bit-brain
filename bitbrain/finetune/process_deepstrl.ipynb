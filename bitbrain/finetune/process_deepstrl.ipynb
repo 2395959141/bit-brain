{
 "cells": [
  {
   "cell_type": "code",
   "execution_count": null,
   "metadata": {},
   "outputs": [],
   "source": [
    "from glob import glob\n",
    "import pandas as pd\n",
    "DATA_DIR = \"/.cache/modelscope/datasets/deepctrl/deepctrl-sft-data/sft_data_zh.jsonl\"\n",
    "import json\n",
    "import random"
   ]
  },
  {
   "cell_type": "code",
   "execution_count": null,
   "metadata": {},
   "outputs": [],
   "source": [
    "def convert_to_llama_factory_format(item):\n",
    "    \"\"\"\n",
    "    将SFT数据格式转换为llama-factory格式\n",
    "    原格式：instruction为空，input包含任务描述，output包含生成内容\n",
    "    转换后：instruction包含任务描述，input为空，output保持不变\n",
    "    \"\"\"\n",
    "    return {\n",
    "        \"instruction\": item[\"input\"],\n",
    "        \"input\": \"\",\n",
    "        \"output\": item[\"output\"].strip()\n",
    "    }\n",
    "\n",
    "all_data = []\n",
    "token_num_list = []\n",
    "\n",
    "with open(DATA_DIR, 'r', encoding='utf-8') as file:\n",
    "    for idx, line in enumerate(file):\n",
    "        # 解码JSON对象\n",
    "        json_obj = json.loads(line)\n",
    "        \n",
    "        # 检查必要字段是否存在且有效\n",
    "        if json_obj.get(\"input\", \"\") == \"\" or json_obj.get(\"output\", \"\") == \"\":\n",
    "            continue\n",
    "            \n",
    "        # 转换为llama-factory格式\n",
    "        converted_data = convert_to_llama_factory_format(json_obj)\n",
    "        all_data.append(converted_data)\n",
    "        token_num_list.append(len(converted_data))\n",
    "\n",
    "print(f\"总共处理了 {len(all_data)} 条数据\")\n",
    "print(len(token_num_list))\n",
    "\n",
    "# 显示转换后的数据示例\n",
    "if all_data:\n",
    "    print(\"转换后的数据示例:\")\n",
    "    print(all_data[0])"
   ]
  },
  {
   "cell_type": "code",
   "execution_count": null,
   "metadata": {},
   "outputs": [],
   "source": [
    "import numpy as np\n",
    "np.percentile(token_num_list,[50, 60, 70, 80, 90,95,99])\n",
    "print(np.percentile(token_num_list,[50, 60, 70, 80, 90,95, 99]))\n",
    "filtered_long_data = []\n",
    "filtered_token_num = []\n",
    "for i in range(len(all_data)):\n",
    "    if token_num_list[i] < 768:\n",
    "        filtered_long_data.append(all_data[i])\n",
    "        filtered_token_num.append(token_num_list[i])\n",
    "print(np.percentile(filtered_token_num,[50, 60, 70, 80, 90,95, 99]))\n",
    "print(len(filtered_token_num))"
   ]
  },
  {
   "cell_type": "code",
   "execution_count": null,
   "metadata": {},
   "outputs": [],
   "source": [
    "few_data = random.sample(filtered_long_data, min(2000000, len(filtered_long_data)))\n",
    "print(f\"采样后数据量: {len(few_data)}\")"
   ]
  },
  {
   "cell_type": "code",
   "execution_count": null,
   "metadata": {},
   "outputs": [],
   "source": [
    "import os\n",
    "file_path = \"/.cache/sft_data/llamafactory_input/deepctl_200W.jsonl\"\n",
    "\n",
    "directory = os.path.dirname(file_path)\n",
    "\n",
    "if not os.path.exists(directory):\n",
    "    os.makedirs(directory)\n",
    "    print(f\"目录{directory} 不存在，已创建\")\n",
    "else:\n",
    "    print(f\"目录{directory} 已存在\")\n",
    "\n",
    "with open(file_path, 'w', encoding=\"utf-8\") as f:\n",
    "    for item in few_data:\n",
    "        json.dump(item, f, ensure_ascii=False)\n",
    "        f.write('\\n')\n",
    "\n",
    "print(f\"数据已保存到: {file_path}\")"
   ]
  }
 ],
 "metadata": {
  "kernelspec": {
   "display_name": "transformers",
   "language": "python",
   "name": "python3"
  },
  "language_info": {
   "name": "python",
   "version": "3.12.9"
  }
 },
 "nbformat": 4,
 "nbformat_minor": 2
}
